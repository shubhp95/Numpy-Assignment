{
 "cells": [
  {
   "cell_type": "markdown",
   "id": "b580046b-3946-49fc-9711-ce5b947d1586",
   "metadata": {},
   "source": []
  },
  {
   "cell_type": "code",
   "execution_count": 3,
   "id": "8061118d-51b8-4778-9d53-7bfd487fed84",
   "metadata": {},
   "outputs": [
    {
     "name": "stdout",
     "output_type": "stream",
     "text": [
      "Data type of list_: <class 'list'>\n",
      "Data type of array_list: <U1\n"
     ]
    }
   ],
   "source": [
    "#Ans1:\n",
    "import numpy as np\n",
    "list_ = ['1', '2', '3', '4', '5']\n",
    "array_list = np.array(object=list_)\n",
    "print(\"Data type of list_:\", type(list_))\n",
    "print(\"Data type of array_list:\", array_list.dtype)"
   ]
  },
  {
   "cell_type": "code",
   "execution_count": 5,
   "id": "a2a0b872-6a0e-40e6-b21e-32a94ca18f60",
   "metadata": {},
   "outputs": [
    {
     "name": "stdout",
     "output_type": "stream",
     "text": [
      "Data type of each element in the list_:\n",
      "Element: 1, Type: <class 'str'>\n",
      "Element: 2, Type: <class 'str'>\n",
      "Element: 3, Type: <class 'str'>\n",
      "Element: 4, Type: <class 'str'>\n",
      "Element: 5, Type: <class 'str'>\n",
      "\n",
      "Data type of each element in the array_list:\n",
      "Element: 1, Type: <class 'numpy.str_'>\n",
      "Element: 2, Type: <class 'numpy.str_'>\n",
      "Element: 3, Type: <class 'numpy.str_'>\n",
      "Element: 4, Type: <class 'numpy.str_'>\n",
      "Element: 5, Type: <class 'numpy.str_'>\n"
     ]
    }
   ],
   "source": [
    "#Ans2:\n",
    "print(\"Data type of each element in the list_:\")\n",
    "for element in list_:\n",
    "    print(f\"Element: {element}, Type: {type(element)}\")\n",
    "print(\"\\nData type of each element in the array_list:\")\n",
    "for element in array_list:\n",
    "    print(f\"Element: {element}, Type: {type(element)}\")"
   ]
  },
  {
   "cell_type": "code",
   "execution_count": 7,
   "id": "7248eba2-ec5a-4dfb-8a2a-78e59017145b",
   "metadata": {},
   "outputs": [
    {
     "name": "stdout",
     "output_type": "stream",
     "text": [
      "Data type of each element in the list_:\n",
      "Element: 1, Type: <class 'str'>\n",
      "Element: 2, Type: <class 'str'>\n",
      "Element: 3, Type: <class 'str'>\n",
      "Element: 4, Type: <class 'str'>\n",
      "Element: 5, Type: <class 'str'>\n",
      "\n",
      "Data type of each element in the array_list:\n",
      "Element: 1, Type: <class 'numpy.int32'>\n",
      "Element: 2, Type: <class 'numpy.int32'>\n",
      "Element: 3, Type: <class 'numpy.int32'>\n",
      "Element: 4, Type: <class 'numpy.int32'>\n",
      "Element: 5, Type: <class 'numpy.int32'>\n",
      "\n",
      "Data type of each element in the num_array:\n",
      "Element: 1, Type: <class 'numpy.int32'>\n",
      "Element: 2, Type: <class 'numpy.int32'>\n",
      "Element: 3, Type: <class 'numpy.int32'>\n",
      "Element: 4, Type: <class 'numpy.int32'>\n",
      "Element: 5, Type: <class 'numpy.int32'>\n",
      "Element: 6, Type: <class 'numpy.int32'>\n"
     ]
    }
   ],
   "source": [
    "#Ans3:\n",
    "array_list = np.array(object=list_, dtype=int)\n",
    "print(\"Data type of each element in the list_:\")\n",
    "for element in list_:\n",
    "    print(f\"Element: {element}, Type: {type(element)}\")\n",
    "print(\"\\nData type of each element in the array_list:\")\n",
    "for element in array_list:\n",
    "    print(f\"Element: {element}, Type: {type(element)}\")\n",
    "num_list = [[1, 2, 3], [4, 5, 6]]\n",
    "num_array = np.array(object=num_list)\n",
    "print(\"\\nData type of each element in the num_array:\")\n",
    "for row in num_array:\n",
    "    for element in row:\n",
    "        print(f\"Element: {element}, Type: {type(element)}\")"
   ]
  },
  {
   "cell_type": "code",
   "execution_count": 17,
   "id": "5b3c9f62-2721-4dae-87a3-38060ff74bf1",
   "metadata": {},
   "outputs": [
    {
     "name": "stdout",
     "output_type": "stream",
     "text": [
      "shape- (2, 3) and size- 6\n"
     ]
    }
   ],
   "source": [
    "#Ans4:\n",
    "import numpy as np\n",
    "num_list = [ [ 1 , 2 , 3 ] , [ 4 , 5 , 6 ] ]\n",
    "num_array = np.array(object = num_list)\n",
    "print('shape-',num_array.shape,'and size-',num_array.size)"
   ]
  },
  {
   "cell_type": "code",
   "execution_count": 23,
   "id": "fa2ff660-e621-4cd3-9f5b-801352be707d",
   "metadata": {},
   "outputs": [
    {
     "name": "stdout",
     "output_type": "stream",
     "text": [
      "3x3 matrix of zeros:\n",
      " [[0. 0. 0.]\n",
      " [0. 0. 0.]\n",
      " [0. 0. 0.]]\n"
     ]
    }
   ],
   "source": [
    "#Ans5:\n",
    "zero_matrix = np.zeros((3, 3))\n",
    "print(\"3x3 matrix of zeros:\\n\",zero_matrix)"
   ]
  },
  {
   "cell_type": "code",
   "execution_count": 25,
   "id": "a86b5883-3245-4f75-83c6-3b80a879c0ad",
   "metadata": {},
   "outputs": [
    {
     "name": "stdout",
     "output_type": "stream",
     "text": [
      "5x5 identity matrix:\n",
      "[[1. 0. 0. 0. 0.]\n",
      " [0. 1. 0. 0. 0.]\n",
      " [0. 0. 1. 0. 0.]\n",
      " [0. 0. 0. 1. 0.]\n",
      " [0. 0. 0. 0. 1.]]\n"
     ]
    }
   ],
   "source": [
    "#Ans6:\n",
    "identity_matrix = np.eye(5)\n",
    "print(\"5x5 identity matrix:\")\n",
    "print(identity_matrix)"
   ]
  },
  {
   "cell_type": "code",
   "execution_count": null,
   "id": "2407a998-64b8-4acb-87a5-e8a926a90bf0",
   "metadata": {},
   "outputs": [],
   "source": []
  }
 ],
 "metadata": {
  "kernelspec": {
   "display_name": "Python 3 (ipykernel)",
   "language": "python",
   "name": "python3"
  },
  "language_info": {
   "codemirror_mode": {
    "name": "ipython",
    "version": 3
   },
   "file_extension": ".py",
   "mimetype": "text/x-python",
   "name": "python",
   "nbconvert_exporter": "python",
   "pygments_lexer": "ipython3",
   "version": "3.12.4"
  }
 },
 "nbformat": 4,
 "nbformat_minor": 5
}
